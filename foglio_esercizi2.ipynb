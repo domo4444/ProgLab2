{
 "cells": [
  {
   "cell_type": "markdown",
   "metadata": {},
   "source": [
    "### **1. Indicizzazione booleana**\n",
    "\n",
    "1. Creare un nuovo vettore con tutti i numeri primi tra 0 e 20. I numeri primi compresi tra 0 e 20 sono: **2, 3, 5, 7, 11, 13, 17, 19**.\n",
    "\n",
    "2. Utilizza un test logico (ad esempio `>`, `<`, `==`, `!=`) per **selezionare tutte le voci del vettore maggiori di 10**.\n",
    "\n",
    "3. Utilizza un test logico per selezionare **tutti i numeri primi pari** dalla lista.  \n"
   ]
  },
  {
   "cell_type": "code",
   "execution_count": 2,
   "metadata": {},
   "outputs": [
    {
     "name": "stdout",
     "output_type": "stream",
     "text": [
      "[11 13 17 19]\n",
      "[2]\n"
     ]
    }
   ],
   "source": [
    "import numpy as np\n",
    "primi = np.array([2,3,5,7,11,13,17,19])\n",
    "primi_10 = primi[primi>10]\n",
    "print(primi_10)\n",
    "primi_pari = primi[primi%2 == 0 ]\n",
    "print(primi_pari)"
   ]
  },
  {
   "cell_type": "markdown",
   "metadata": {},
   "source": [
    "### **2.  Operazioni su array**\n",
    "Crea un array **a**, 2D (senza digitarlo esplicitamente), e genera due nuovi array **b**, contenente la sua 2ª e 4ª riga, e **c** contenente solo la 3ª.  Dividi ogni colonna dell'array a, elemento per elemento, con l'array c."
   ]
  },
  {
   "cell_type": "code",
   "execution_count": 3,
   "metadata": {},
   "outputs": [
    {
     "name": "stdout",
     "output_type": "stream",
     "text": [
      "[[ 0  1  2  3]\n",
      " [ 4  5  6  7]\n",
      " [ 8  9 10 11]\n",
      " [12 13 14 15]]\n",
      "[array([4, 5, 6, 7]), array([12, 13, 14, 15])]\n",
      "[array([ 8,  9, 10, 11])]\n",
      "[array([[0.        , 0.44444444, 0.8       , 1.09090909]]), array([[0.125     , 0.55555556, 0.9       , 1.18181818]]), array([[0.25      , 0.66666667, 1.        , 1.27272727]]), array([[0.375     , 0.77777778, 1.1       , 1.36363636]])]\n"
     ]
    }
   ],
   "source": [
    "a = np.arange(16).reshape(4,4)\n",
    "b = ([a[1],a[3]])\n",
    "c = ([a[2]])\n",
    "print(a); print(b); print(c)\n",
    "d = ([a[:,i]/c for i in range(4)])\n",
    "print(d)\n"
   ]
  },
  {
   "cell_type": "markdown",
   "metadata": {},
   "source": [
    "### **3. Seleziona il numero più vicino a 0.5 in un array casuale**\n",
    "Genera un array 10 x 3 con numeri casuali nell'intervallo [0,1].\n",
    "Per ogni riga, seleziona il numero più vicino a 0.5. Per farlo usa il fancy indexing."
   ]
  },
  {
   "cell_type": "code",
   "execution_count": 4,
   "metadata": {},
   "outputs": [
    {
     "name": "stdout",
     "output_type": "stream",
     "text": [
      "[[0.9793013  0.75004138 0.86681734]\n",
      " [0.37145229 0.19180699 0.67502965]\n",
      " [0.96943192 0.22948208 0.57618153]\n",
      " [0.55800288 0.45289792 0.13932012]\n",
      " [0.65733123 0.40840825 0.9694616 ]\n",
      " [0.77079312 0.92850104 0.05728041]\n",
      " [0.06675356 0.29378735 0.11557005]\n",
      " [0.29237114 0.63516464 0.98213991]\n",
      " [0.48798911 0.76361442 0.28606053]\n",
      " [0.06379309 0.68698159 0.49028489]]\n",
      "[0.75004138 0.37145229 0.57618153 0.45289792 0.40840825 0.77079312\n",
      " 0.29378735 0.63516464 0.48798911 0.49028489]\n"
     ]
    }
   ],
   "source": [
    "array_casuale = np.random.rand(10, 3)\n",
    "near_value = array_casuale[np.arange(10),np.argmin(np.abs(array_casuale-0.5),axis=1)]\n",
    "print(array_casuale) \n",
    "print(near_value)"
   ]
  },
  {
   "cell_type": "markdown",
   "metadata": {},
   "source": [
    "### **4. Analisi della Frequenza Cardiaca con NumPy**\n",
    "\n",
    "1. **Supponiamo che i seguenti valori rappresentino la tua frequenza cardiaca** registrata dal tuo Fitbit durante la giornata:  \n",
    "   `68, 65, 77, 110, 160, 161, 162, 161, 160, 161, 162, 163, 164, 163, 162, 100, 90, 97, 72, 60, 70`  \n",
    "   Inserisci questi valori in un array NumPy.\n",
    "\n",
    "2. **Trova la frequenza cardiaca minima** registrata durante la giornata.  \n",
    "   _(Questo valore rappresenta approssimativamente la tua frequenza cardiaca a riposo, un comune indicatore di salute.)_\n",
    "\n",
    "3. **Trova la frequenza cardiaca massima** registrata durante la giornata.  \n",
    "   _(Questo valore è un'indicazione dell'intensità dell'esercizio fisico.)_\n",
    "\n",
    "4. **Calcoliamo la percentuale di letture effettuate mentre stavi facendo esercizio fisico (frequenza cardiaca sopra a 120)**:  \n",
    "   - Crea un nuovo array che contiene `True` quando la frequenza cardiaca è **superiore a 120**, e `False` quando è **inferiore o uguale a 120**.\n",
    "   - Utilizza una funzione di sintesi per calcolare la percentuale di osservazioni in cui la tua frequenza cardiaca era sopra 120.\n"
   ]
  },
  {
   "cell_type": "code",
   "execution_count": 5,
   "metadata": {},
   "outputs": [
    {
     "data": {
      "text/plain": [
       "(np.int64(60),\n",
       " np.int64(164),\n",
       " [array([False, False, False, False,  True,  True,  True,  True,  True,\n",
       "          True,  True,  True,  True,  True,  True, False, False, False,\n",
       "         False, False, False])],\n",
       " np.float64(52.38095238095239))"
      ]
     },
     "execution_count": 5,
     "metadata": {},
     "output_type": "execute_result"
    }
   ],
   "source": [
    "freq = np.array([68, 65, 77, 110, 160, 161, 162, 161, 160, 161, 162, 163, 164, 163, 162, 100, 90, 97, 72, 60, 70])\n",
    "freq_rip = np.min(freq)\n",
    "freq_max = np.max(freq)\n",
    "workout = [freq >120]\n",
    "perc = np.mean(workout)*100\n",
    "freq_rip ,freq_max, workout , perc"
   ]
  },
  {
   "cell_type": "markdown",
   "metadata": {},
   "source": [
    "### **5. Manipolazione di vettori**\n",
    "\n",
    "1. Creare un vettore contenente i seguenti stipendi: **50.000, 105.250, 55.000, 89.000**.  \n",
    "Qual è il costo totale del personale (somma di tutti gli stipendi dell'azienda)?\n",
    "\n",
    "2. Supponiamo che il nostro malvagio CEO abbia deciso di darsi un aumento.  \n",
    "Modifica il vettore degli stipendi in modo che il CEO, la persona che guadagna **105.250 dollari**, riceva un aumento del **15%**.\n",
    "\n",
    "3. Il **115%** di **105.250 dollari** è **121.037,50 dollari**.  \n",
    "Questo valore è presente nel tuo array? Se no, riesci a capire il motivo?\n",
    "\n",
    "4. Ricrea il vettore e utilizza l'argomento **`dtype`** in modo che, quando il CEO riceve un aumento del **15%**, il suo stipendio finale sia esattamente **121.037,50 dollari**.\n",
    "\n",
    "5. Questo aumento ha infastidito l'impiegata con lo stipendio più basso (**50.000 dollari**), che ora pretende un aumento del **20%**.  \n",
    "Modifica il vettore per riflettere questo cambiamento.\n",
    "\n",
    "6. L'aumento dato al CEO e all'impiegata ha irritato gli altri due dipendenti, quindi ora devono ricevere un aumento del **10%**.  \n",
    "Modifica il vettore di conseguenza.\n",
    "\n",
    "7. Calcola il **costo totale del personale** dopo tutti gli aumenti.  \n",
    "Alla fine, quanto è costato all'azienda l'aumento di circa **16.000 dollari** del CEO?\n"
   ]
  },
  {
   "cell_type": "code",
   "execution_count": 6,
   "metadata": {},
   "outputs": [
    {
     "name": "stdout",
     "output_type": "stream",
     "text": [
      "Alla fine è costato:40187.5\n"
     ]
    }
   ],
   "source": [
    "#1)\n",
    "stipendi = np.array([50000, 105250, 55000, 89000])\n",
    "costo_personale = np.sum(stipendi)\n",
    "#2)\n",
    "#stipendi[np.argmax(stipendi)] *= 115/100 #stipendi con aumento del 15% del CEO\n",
    "#3)\n",
    "stipendi.dtype\n",
    "#Non è presente, perchè il moi array è di tipo int\n",
    "#4)\n",
    "stipendi_float = np.array(stipendi,dtype=\"float\")\n",
    "stipendi_float[np.argmax(stipendi_float)] *= 1.15\n",
    "#5)\n",
    "stipendi_float[np.argmin(stipendi_float)] *= 1.2\n",
    "#6)\n",
    "stipendi_float = [stipendi_float[i] * 1.1 if i not in [np.argmax(stipendi),np.argmin(stipendi)] else stipendi_float[i] for i in range(len(stipendi_float))]\n",
    "#7)\n",
    "costo_finale_personale = np.sum(stipendi_float)\n",
    "costo_aumento = costo_finale_personale - costo_personale\n",
    "print('Alla fine è costato:{}'.format(costo_aumento))\n"
   ]
  },
  {
   "cell_type": "markdown",
   "metadata": {},
   "source": [
    "### **6. Valori di Co2**\n",
    "\n",
    "1. Carica tramite numpy il file generato e salvato a lezione sulle emissioni di CO2\n",
    "\n",
    "2. Calcola quanti valori ci CO2 sono sopra la soglia di 18  tonnellate per anno ed il loro valore medio\n",
    "\n",
    "3. Calcola la frazione totale di emissione sopra la soglia (somma totale sopra la soglia/somma totale)"
   ]
  },
  {
   "cell_type": "code",
   "execution_count": 7,
   "metadata": {},
   "outputs": [
    {
     "data": {
      "text/plain": [
       "(array([19.3 , 19.99, 19.02, 19.92, 19.67, 18.86, 18.02, 18.41, 19.17,\n",
       "        19.2 , 18.29, 19.47, 19.41, 19.45, 19.26, 19.18, 18.41, 18.73,\n",
       "        19.97, 19.12, 18.7 , 19.64, 19.97, 18.81]),\n",
       " np.float64(19.16541666666667),\n",
       " np.float64(0.18540598497307406))"
      ]
     },
     "execution_count": 7,
     "metadata": {},
     "output_type": "execute_result"
    }
   ],
   "source": [
    "# Generazione di 200 valori casuali di emissioni di CO2 in tonnellate per anno \n",
    "# Supponiamo emissioni tra 4 e 20 tonnellate per persona \n",
    "co2_emissions = np.round(np.random.uniform(4, 20, 200), 2)\n",
    "\n",
    "# Nome del file di output\n",
    "output_file = \"emissioni.txt\"\n",
    "\n",
    "# Salvataggio su file\n",
    "np.savetxt(output_file, co2_emissions, fmt=\"%.2f\")\n",
    "valori_sopra_soglia = co2_emissions[co2_emissions>=18]\n",
    "conteggio = len(valori_sopra_soglia)\n",
    "vm_sopra_soglia = np.mean(valori_sopra_soglia)\n",
    "frazione = sum(valori_sopra_soglia)/sum(co2_emissions)\n",
    "valori_sopra_soglia , vm_sopra_soglia , frazione\n"
   ]
  },
  {
   "cell_type": "markdown",
   "metadata": {},
   "source": [
    "### **7. Analisi di una matrice**\n",
    "Data la matrice survey con età, reddito e anni di istruzione\n",
    "\n",
    "survey_matrix = np.array([\n",
    "    [25, 40000, 10],\n",
    "    [32, 52000, 12],\n",
    "    [40, 63000, 14],\n",
    "    [29, 47000, 11],\n",
    "    [35, 58000, 13]\n",
    "])\n",
    "\n",
    "\n",
    "1. Seleziona dalla matrice solo gli intervistati con **almeno 12 anni di istruzione** utilizzando un test logico.\n",
    "\n",
    "2. In un'unica riga di codice, seleziona i **redditi** degli intervistati con **almeno 12 anni di istruzione**.\n",
    "\n",
    "3. In un'unica riga di codice, calcola il **reddito medio** degli intervistati con **almeno 12 anni di istruzione**.\n"
   ]
  },
  {
   "cell_type": "code",
   "execution_count": 8,
   "metadata": {},
   "outputs": [
    {
     "data": {
      "text/plain": [
       "np.float64(57666.666666666664)"
      ]
     },
     "execution_count": 8,
     "metadata": {},
     "output_type": "execute_result"
    }
   ],
   "source": [
    "survey_matrix = np.array([\n",
    "    [25, 40000, 10],\n",
    "    [32, 52000, 12],\n",
    "    [40, 63000, 14],\n",
    "    [29, 47000, 11],\n",
    "    [35, 58000, 13]\n",
    "])\n",
    "min_12 = np.array([item for item in survey_matrix if item[2]>=12])\n",
    "red_12 = np.array([item[1] for item in survey_matrix if item[2]>=12 ])\n",
    "reddito_medio = np.mean([item[1] for item in survey_matrix if item[2]>=12])\n",
    "reddito_medio "
   ]
  },
  {
   "cell_type": "markdown",
   "metadata": {},
   "source": []
  },
  {
   "cell_type": "markdown",
   "metadata": {},
   "source": [
    "### **8. Rimpiazzare gli outliers**\n",
    "\n",
    "Vediamo se possiamo ripulire alcuni dati mancanti. Immagina di essere il responsabile dei registri di un comune locale con **500 cittadini** di **55 anni e oltre**.  \n",
    "\n",
    "La città è famosa per la sua longevità e un team di ricercatori ti ha chiesto di identificare **il cittadino più anziano**.  \n",
    "\n",
    "Il problema è che, occasionalmente, nei registri si verificano errori e in quei casi viene inserita l'età **999** invece dell'età corretta.  \n",
    "\n",
    "Rimuovi i dati errati dall'array e determina l'età del cittadino più anziano.\n"
   ]
  },
  {
   "cell_type": "code",
   "execution_count": 9,
   "metadata": {},
   "outputs": [
    {
     "data": {
      "text/plain": [
       "array([ 92., 108.,  75.,  63.,  62.,  66.,  90.,  98.,  97.,  92.,  60.,\n",
       "       107.,  90.,  71.,  97.,  86.,  55.,  55.,  98.,  57.,  96., 104.,\n",
       "        96.,  94.,  72.,  98., 111.,  98.,  89.,  69.,  77.,  92.,  85.,\n",
       "       101.,  93., 100.,  90., 101.,  96.,  98.,  nan,  87., 106.,  86.,\n",
       "       108.,  55.,  67.,  65.,  68.,  59.,  67.,  72.,  57.,  79.,  95.,\n",
       "        67.,  86.,  70.,  91., 111.,  67.,  75.,  59.,  88.,  90.,  99.,\n",
       "        94.,  65., 111., 103., 100.,  70.,  63.,  65., 100., 110.,  nan,\n",
       "        70.,  57.,  75.,  56., 104., 111.,  90.,  74., 100.,  90.,  86.,\n",
       "        88.,  99.,  58., 103.,  88., 103.,  64.,  96., 105.,  89.,  83.,\n",
       "        65., 100.,  62.,  73., 105.,  83., 105.,  58.,  96.,  77.,  74.,\n",
       "        95., 109.,  91., 101.,  91.,  nan,  63., 111.,  97., 108.,  75.,\n",
       "        77.,  73.,  58.,  94.,  83.,  90.,  61., 110., 107., 105.,  85.,\n",
       "        64.,  66.,  71., 107., 105.,  72.,  78.,  66., 100., 102.,  72.,\n",
       "        nan,  74.,  68.,  73.,  72.,  90.,  93.,  99.,  55.,  92.,  83.,\n",
       "        58.,  71.,  89.,  75.,  98.,  87.,  nan,  78.,  97.,  71., 106.,\n",
       "        83.,  58.,  81., 100.,  72.,  93.,  70.,  65.,  60.,  95., 107.,\n",
       "        94.,  77.,  87.,  90.,  82.,  56.,  99., 107.,  86.,  56.,  73.,\n",
       "        96.,  64.,  69.,  64.,  92.,  57., 104., 110.,  69.,  66.,  68.,\n",
       "        84.,  89.,  72.,  80.,  55.,  75.,  87.,  57., 106.,  69.,  66.,\n",
       "        62., 102.,  76., 111.,  nan,  96.,  83.,  84.,  61., 102.,  63.,\n",
       "       107.,  63.,  76.,  58.,  83.,  58.,  61.,  71.,  77.,  90.,  74.,\n",
       "       100., 103.,  74.,  92., 102.,  63.,  87.,  93.,  61.,  63.,  86.,\n",
       "        74.,  98.,  64.,  nan,  78.,  95.,  84.,  81., 107.,  85.,  79.,\n",
       "        82.,  89.,  65., 107.,  57.,  74.,  77.,  97.,  92.,  58.,  96.,\n",
       "       105.,  60.,  55.,  74.,  57.,  80.,  62.,  85.,  87.,  62.,  nan,\n",
       "        71.,  74.,  70.,  97.,  59.,  82.,  96., 105.,  70.,  89., 105.,\n",
       "        60.,  70.,  87.,  nan,  64., 108., 107., 104.,  85.,  95., 108.,\n",
       "        74.,  64.,  97.,  89.,  88.,  79.,  67.,  81.,  92.,  63.,  80.,\n",
       "        76.,  94., 104.,  67.,  73.,  61.,  99.,  96.,  68.,  90.,  86.,\n",
       "        79.,  85., 111.,  75.,  98.,  81., 111., 108., 103.,  85.,  72.,\n",
       "       108., 102.,  nan,  64., 107., 112.,  66.,  93.,  89.,  78.,  66.,\n",
       "        92.,  63., 101.,  92.,  64.,  72.,  56.,  71.,  64.,  87.,  78.,\n",
       "       107.,  85., 109.,  95.,  69., 111.,  64.,  72.,  55.,  66.,  99.,\n",
       "        57.,  78.,  55.,  58.,  90.,  88.,  71.,  90., 103.,  92.,  98.,\n",
       "        67.,  97.,  77.,  68.,  77.,  59.,  78.,  69.,  77.,  81.,  61.,\n",
       "        99.,  nan,  85.,  78., 104.,  97.,  95.,  74.,  70.,  69.,  83.,\n",
       "        68.,  68.,  77.,  60.,  85.,  82.,  93.,  66.,  71.,  62.,  64.,\n",
       "       107.,  nan,  65.,  78.,  59.,  83.,  67., 108.,  58.,  95., 106.,\n",
       "        83.,  79.,  67.,  59.,  96.,  90.,  55.,  55.,  96., 109.,  82.,\n",
       "        55., 101.,  58.,  97.,  77.,  60.,  81.,  nan,  81.,  75., 100.,\n",
       "        66.,  65., 105.,  94., 101.,  56.,  nan,  59., 105.,  59.,  93.,\n",
       "        56., 104.,  74.,  81.,  62.,  76.,  65., 107.,  60., 107.,  98.,\n",
       "        77.,  86.,  83., 104.,  74.,  69.,  97.,  80.,  91.,  56., 108.,\n",
       "        87.,  65.,  91.,  93.,  60.,  91., 110., 107.,  88.,  96.,  70.,\n",
       "        60.,  99.,  66.,  91., 107.,  65.,  81., 109.,  84., 106.,  80.,\n",
       "        92.,  78.,  84.,  91.,  59.])"
      ]
     },
     "execution_count": 9,
     "metadata": {},
     "output_type": "execute_result"
    }
   ],
   "source": [
    "ages = np.array([92, 108, 75, 63, 62, 66, 90, 98, 97, 92, 60, 107, 90, 71, 97, 86, 55, 55,\n",
    "                 98, 57, 96, 104, 96, 94, 72, 98, 111, 98, 89, 69, 77, 92, 85, 101, 93, 100,\n",
    "                 90, 101, 96, 98, 999, 87, 106, 86, 108, 55, 67, 65, 68, 59, 67, 72, 57, 79,\n",
    "                 95, 67, 86, 70, 91, 111, 67, 75, 59, 88, 90, 99, 94, 65, 111, 103, 100, 70,\n",
    "                 63, 65, 100, 110, 999, 70, 57, 75, 56, 104, 111, 90, 74, 100, 90, 86, 88, 99,\n",
    "                 58, 103, 88, 103, 64, 96, 105, 89, 83, 65, 100, 62, 73, 105, 83, 105, 58, 96,\n",
    "                 77, 74, 95, 109, 91, 101, 91, 999, 63, 111, 97, 108, 75, 77, 73, 58, 94, 83,\n",
    "                 90, 61, 110, 107, 105, 85, 64, 66, 71, 107, 105, 72, 78, 66, 100, 102, 72, 999,\n",
    "                 74, 68, 73, 72, 90, 93, 99, 55, 92, 83, 58, 71, 89, 75, 98, 87, 999, 78,\n",
    "                 97, 71, 106, 83, 58, 81, 100, 72, 93, 70, 65, 60, 95, 107, 94, 77, 87, 90,\n",
    "                 82, 56, 99, 107, 86, 56, 73, 96, 64, 69, 64, 92, 57, 104, 110, 69, 66, 68,\n",
    "                 84, 89, 72, 80, 55, 75, 87, 57, 106, 69, 66, 62, 102, 76, 111, 999, 96, 83,\n",
    "                 84, 61, 102, 63, 107, 63, 76, 58, 83, 58, 61, 71, 77, 90, 74, 100, 103, 74,\n",
    "                 92, 102, 63, 87, 93, 61, 63, 86, 74, 98, 64, 999, 78, 95, 84, 81, 107, 85,\n",
    "                 79, 82, 89, 65, 107, 57, 74, 77, 97, 92, 58, 96, 105, 60, 55, 74, 57, 80,\n",
    "                 62, 85, 87, 62, 999, 71, 74, 70, 97, 59, 82, 96, 105, 70, 89, 105, 60, 70,\n",
    "                 87, 999, 64, 108, 107, 104, 85, 95, 108, 74, 64, 97, 89, 88, 79, 67, 81, 92,\n",
    "                 63, 80, 76, 94, 104, 67, 73, 61, 99, 96, 68, 90, 86, 79, 85, 111, 75, 98,\n",
    "                 81, 111, 108, 103, 85, 72, 108, 102, 999, 64, 107, 112, 66, 93, 89, 78, 66, 92,\n",
    "                 63, 101, 92, 64, 72, 56, 71, 64, 87, 78, 107, 85, 109, 95, 69, 111, 64, 72,\n",
    "                 55, 66, 99, 57, 78, 55, 58, 90, 88, 71, 90, 103, 92, 98, 67, 97, 77, 68,\n",
    "                 77, 59, 78, 69, 77, 81, 61, 99, 999, 85, 78, 104, 97, 95, 74, 70, 69, 83,\n",
    "                 68, 68, 77, 60, 85, 82, 93, 66, 71, 62, 64, 107, 999, 65, 78, 59, 83, 67,\n",
    "                 108,  58,  95, 106,  83,  79,  67,  59,  96,  90,  55,  55,  96, 109,  82,  55, 101,  58,\n",
    "                 97, 77, 60, 81, 999, 81, 75, 100, 66, 65, 105, 94, 101, 56, 999, 59, 105, 59,\n",
    "                 93, 56, 104, 74, 81, 62, 76, 65, 107, 60, 107, 98, 77, 86, 83, 104, 74, 69,\n",
    "                 97, 80, 91, 56, 108, 87, 65, 91, 93, 60, 91, 110, 107, 88, 96, 70, 60, 99,\n",
    "                 66, 91, 107, 65, 81, 109, 84, 106, 80, 92, 78, 84, 91, 59])\n",
    "#ages = ages.astype(float)\n",
    "#ages[ages == 999] = np.nan\n",
    "#oppure\n",
    "ages = np.where(ages == 999, np.nan, ages)\n",
    "ages"
   ]
  },
  {
   "cell_type": "markdown",
   "metadata": {},
   "source": [
    "### 9.**Generazione random di storie**\n",
    "\n",
    "Usando la lista qui sotto, estrai casualmente **5 parole con reinserimento** (cioè, i duplicati sono ammessi).  \n",
    "\n",
    "Successivamente, inserisci casualmente queste parole negli spazi vuoti (indicati con \"_\") nella seguente frase:\n",
    "\n",
    "*\"In epoche passate, viveva una donna saggia che era molto orgogliosa dell'antico __ che proteggeva. Quando un anziano del villaggio venne a chiederle consiglio su come garantire al meglio un raccolto abbondante e le offrì il __ come dono, i suoi occhi si spalancarono e lei esclamò una sola parola, \"__\".  \n",
    "Radunò il villaggio e, per i successivi 100 giorni, su sua richiesta, gli abitanti cercarono nella foresta un __.  \n",
    "Nel 101° giorno, il bambino più giovane del villaggio trovò ciò che stavano cercando e tutti corsero dalla donna saggia per donarglielo.  \n",
    "Con un sorriso da un orecchio all’altro, e cantando canti di festa, la donna saggia guardò i suoi compaesani e disse: \"Ora è giunto il tempo del banchetto - nessuno rimarrà mai più senza _!\" Ci fu grande gioia e celebrazione.\"*\n"
   ]
  },
  {
   "cell_type": "code",
   "execution_count": 11,
   "metadata": {},
   "outputs": [
    {
     "data": {
      "text/plain": [
       "(array(['DEPOSITO', 'IGNORANZA', 'NEMICO', 'MATEMATICA', 'PRESTAZIONE'],\n",
       "       dtype='<U20'),\n",
       " 'In epoche passate, viveva una donna saggia che era molto orgogliosa dell\\'antico DEPOSITO che proteggeva. Quando un anziano del villaggio venne a chiederle consiglio su come garantire al meglio un raccolto abbondante e le offrì il IGNORANZA come dono, i suoi occhi si spalancarono e lei esclamò una sola parola, \"NEMICO\".  \\nRadunò il villaggio e, per i successivi 100 giorni, su sua richiesta, gli abitanti cercarono nella foresta un MATEMATICA.  \\nNel 101° giorno, il bambino più giovane del villaggio trovò ciò che stavano cercando e tutti corsero dalla donna saggia per donarglielo.  \\nCon un sorriso da un orecchio all’altro, e cantando canti di festa, la donna saggia guardò i suoi compaesani e disse: \"Ora è giunto il tempo del banchetto - nessuno rimarrà mai più senza PRESTAZIONE!\" Ci fu grande gioia e celebrazione.')"
      ]
     },
     "execution_count": 11,
     "metadata": {},
     "output_type": "execute_result"
    }
   ],
   "source": [
    "lista_parole = [\n",
    "    'INSEDIAMENTO', 'SEPARAZIONE', 'DIFFERENZA', 'APPLICAZIONE', 'ATTEGGIAMENTO', 'VERDURA', 'IMPERO', 'RICEVIMENTO',\n",
    "    'IGNORANZA', 'BIOGRAFIA', 'VISIONE', 'AGENTE DI POLIZIA', 'PROVA', 'PRESTAZIONE', 'PRESENTAZIONE', 'PARENTE',\n",
    "    'GIUSTIFICAZIONE', 'FILOSOFIA', 'DIREZIONE', 'BENEFICIARIO', 'BATTERIA', 'CERIMONIA', 'AGONIA', 'RECUPERO',\n",
    "    'ALFABETIZZAZIONE', 'CONSEGNA', 'SERBATOIO', 'VOLONTARIO', 'DEPOSITO', 'BIRILLO DA BOWLING', 'NEMICO', 'ANNUNCIO',\n",
    "    'CARAMELLA ZUCCHERATA', 'FULMINE', 'PALLONCINO', 'COPERTA', 'SCOPERTA', 'PENALITÀ', 'GENERALE', 'ALPACA',\n",
    "    'VANTAGGIO', 'HOT DOG', 'ABITO', 'MATEMATICA', 'VARIANTE'\n",
    "]\n",
    "frase=\"\"\"In epoche passate, viveva una donna saggia che era molto orgogliosa dell'antico __ che proteggeva. Quando un anziano del villaggio venne a chiederle consiglio su come garantire al meglio un raccolto abbondante e le offrì il __ come dono, i suoi occhi si spalancarono e lei esclamò una sola parola, \"__\".  \n",
    "Radunò il villaggio e, per i successivi 100 giorni, su sua richiesta, gli abitanti cercarono nella foresta un __.  \n",
    "Nel 101° giorno, il bambino più giovane del villaggio trovò ciò che stavano cercando e tutti corsero dalla donna saggia per donarglielo.  \n",
    "Con un sorriso da un orecchio all’altro, e cantando canti di festa, la donna saggia guardò i suoi compaesani e disse: \"Ora è giunto il tempo del banchetto - nessuno rimarrà mai più senza __!\" Ci fu grande gioia e celebrazione.\"\"\"\n",
    "lista_duplicati = np.random.choice(lista_parole, size = 5, replace=True)\n",
    "frase_nuova = frase\n",
    "for i in range(5):\n",
    "    frase_nuova = frase_nuova.replace(f\"__\",lista_duplicati[i],1)\n",
    "\n",
    "lista_duplicati, frase_nuova\n"
   ]
  },
  {
   "cell_type": "code",
   "execution_count": null,
   "metadata": {},
   "outputs": [],
   "source": []
  },
  {
   "cell_type": "markdown",
   "metadata": {},
   "source": [
    "Esempio di output\n",
    "\n",
    "\n",
    "\"In epoche passate, viveva una donna saggia che era molto orgogliosa dell'antico APPLICAZIONE che proteggeva. \n",
    "Quando un anziano del villaggio venne a chiederle consiglio su come garantire al meglio un raccolto abbondante \n",
    "e le offrì il DEPOSITO come dono, i suoi occhi si spalancarono e lei esclamò una sola parola, \"PRESTAZIONE\".  \n",
    "\n",
    "Radunò il villaggio e, per i successivi 100 giorni, su sua richiesta, gli abitanti cercarono nella foresta un BIRILLO DA BOWLING. \n",
    "Nel 101° giorno, il bambino più giovane del villaggio trovò ciò che stavano cercando e tutti corsero dalla donna saggia per donarglielo. \n",
    "Con un sorriso da un orecchio all’altro, e cantando canti di festa, la donna saggia guardò i suoi compaesani e disse: \n",
    "\"Ora è giunto il tempo del banchetto - nessuno rimarrà mai più senza GIUSTIFICAZIONE!\"  \n",
    "\n",
    "Ci fu grande gioia e celebrazione.\""
   ]
  },
  {
   "cell_type": "code",
   "execution_count": null,
   "metadata": {},
   "outputs": [
    {
     "ename": "ModuleNotFoundError",
     "evalue": "No module named 'pandas'",
     "output_type": "error",
     "traceback": [
      "\u001b[1;31m---------------------------------------------------------------------------\u001b[0m",
      "\u001b[1;31mModuleNotFoundError\u001b[0m                       Traceback (most recent call last)",
      "Cell \u001b[1;32mIn[14], line 1\u001b[0m\n\u001b[1;32m----> 1\u001b[0m \u001b[38;5;28;01mimport\u001b[39;00m \u001b[38;5;21;01mpandas\u001b[39;00m\n",
      "\u001b[1;31mModuleNotFoundError\u001b[0m: No module named 'pandas'"
     ]
    }
   ],
   "source": []
  }
 ],
 "metadata": {
  "kernelspec": {
   "display_name": "amb_leo",
   "language": "python",
   "name": "python3"
  },
  "language_info": {
   "codemirror_mode": {
    "name": "ipython",
    "version": 3
   },
   "file_extension": ".py",
   "mimetype": "text/x-python",
   "name": "python",
   "nbconvert_exporter": "python",
   "pygments_lexer": "ipython3",
   "version": "3.12.9"
  }
 },
 "nbformat": 4,
 "nbformat_minor": 2
}
