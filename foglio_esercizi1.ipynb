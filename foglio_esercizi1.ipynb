{
 "cells": [
  {
   "cell_type": "markdown",
   "metadata": {},
   "source": [
    "### **1. Trasformare cicli in list comprehension**\n",
    "\n",
    "Fai tre esempi di cicli producono una lista e poi riscrivi lo stesso codice usando la list comprehension"
   ]
  },
  {
   "cell_type": "code",
   "execution_count": 1,
   "metadata": {},
   "outputs": [
    {
     "data": {
      "text/plain": [
       "([0, 1, 2, 3, 4, 5, 6, 7, 8, 9],\n",
       " [0, 1, 2, 3, 4, 5, 6, 7, 8, 9],\n",
       " ['t', 'e', 's', 't'],\n",
       " ['t', 'e', 's', 't'],\n",
       " [0, 2, 4, 6, 8],\n",
       " [0, 2, 4, 6, 8])"
      ]
     },
     "execution_count": 1,
     "metadata": {},
     "output_type": "execute_result"
    }
   ],
   "source": [
    "import numpy as np\n",
    "a=[]\n",
    "for i in range(10):\n",
    "    a.append(i)\n",
    "a1 = [i for i in range(10)]\n",
    "b=[]\n",
    "for c in \"test\":\n",
    "    b.append(c)\n",
    "b1 = [c for c in \"test\"]\n",
    "c = []\n",
    "for i in range(10):\n",
    "    if i%2==0:\n",
    "        c.append(i)\n",
    "c1 = [i for i in range(10) if i%2==0]\n",
    "a, a1, b, b1, c, c1\n"
   ]
  },
  {
   "cell_type": "markdown",
   "metadata": {},
   "source": [
    "### **2. Vettore di Numeri Primi**\n",
    "\n",
    "1. **Crea un vettore** contenente tutti i numeri primi compresi tra **0 e 10**  \n",
    "   _(Puoi scriverli direttamente nell'array)._\n",
    "\n",
    "2. **Conta quanti numeri ci sono nel vettore** utilizzando la funzione `len()`.  **Ottieni lo stesso numero** accedendo all'attributo `.size` del vettore.\n",
    "\n",
    "3. Quale pensi sia il tipo di dato (`dtype`) del vettore?  Prova a rispondere senza eseguire il codice e Verifica la tua risposta accedendo all'attributo `.dtype` del vettore\n",
    "\n",
    "4. Scrivi l'array usando una list comprehension che controlla che i numeri siano primi. "
   ]
  },
  {
   "cell_type": "code",
   "execution_count": 10,
   "metadata": {},
   "outputs": [
    {
     "name": "stdout",
     "output_type": "stream",
     "text": [
      "4\n"
     ]
    },
    {
     "data": {
      "text/plain": [
       "(4, dtype('int64'), [2, 3, 5, 7])"
      ]
     },
     "execution_count": 10,
     "metadata": {},
     "output_type": "execute_result"
    }
   ],
   "source": [
    "v = np.array([2,3,5,7])\n",
    "print('{}'.format(len(v)))\n",
    "list = [value for value in range(11) if ((value == 2 or (value %2 !=0 and all(value % x !=0 for x in range(2, value//2))))and value !=1)]\n",
    "v.size, v.dtype, list"
   ]
  },
  {
   "cell_type": "markdown",
   "metadata": {},
   "source": [
    "### **3.  Operazioni su array**\n",
    "Crea un array **a**, 1D (senza digitarlo esplicitamente), e genera due nuovi array **b**, contenente una sottostringa a piacere e **c** che è il reverse dell'array **a** (esempio [1,2,3] diventa [3,2,1]) .  Dividi l'array **a** per l'array **c**. Fai la stessa cosa per una lista."
   ]
  },
  {
   "cell_type": "code",
   "execution_count": 26,
   "metadata": {},
   "outputs": [
    {
     "name": "stdout",
     "output_type": "stream",
     "text": [
      "[1.4        1.         1.25       0.84615385 1.23076923 0.8125\n",
      " 1.18181818 0.8        1.         0.71428571]\n"
     ]
    },
    {
     "data": {
      "text/plain": [
       "(array([ 7,  9, 10, 11, 16, 13, 13,  8,  9,  5], dtype=int32),\n",
       " array([10, 11, 16], dtype=int32),\n",
       " array([ 5,  9,  8, 13, 13, 16, 11, 10,  9,  7], dtype=int32),\n",
       " array([ 5,  9,  8, 13, 13, 16, 11, 10,  9,  7], dtype=int32),\n",
       " [np.float64(1.4),\n",
       "  np.float64(1.0),\n",
       "  np.float64(1.25),\n",
       "  np.float64(0.8461538461538461),\n",
       "  np.float64(1.2307692307692308),\n",
       "  np.float64(0.8125),\n",
       "  np.float64(1.1818181818181819),\n",
       "  np.float64(0.8),\n",
       "  np.float64(1.0),\n",
       "  np.float64(0.7142857142857143)])"
      ]
     },
     "execution_count": 26,
     "metadata": {},
     "output_type": "execute_result"
    }
   ],
   "source": [
    "a = np.random.randint(0,20,10)\n",
    "b = a[2:5]\n",
    "c= np.flip(a)\n",
    "c1 = a[-1::-1]\n",
    "print(a/c)\n",
    "lista =[]\n",
    "for i in range(len(a)):\n",
    "    lista.append(a[i]/c[i])\n",
    "a,b,c,c1,lista\n"
   ]
  }
 ],
 "metadata": {
  "kernelspec": {
   "display_name": "amb_leo",
   "language": "python",
   "name": "python3"
  },
  "language_info": {
   "codemirror_mode": {
    "name": "ipython",
    "version": 3
   },
   "file_extension": ".py",
   "mimetype": "text/x-python",
   "name": "python",
   "nbconvert_exporter": "python",
   "pygments_lexer": "ipython3",
   "version": "3.12.9"
  }
 },
 "nbformat": 4,
 "nbformat_minor": 2
}
